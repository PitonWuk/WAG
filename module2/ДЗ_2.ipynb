{
  "nbformat": 4,
  "nbformat_minor": 0,
  "metadata": {
    "colab": {
      "provenance": [],
      "toc_visible": true,
      "include_colab_link": true
    },
    "kernelspec": {
      "name": "python3",
      "display_name": "Python 3"
    },
    "language_info": {
      "name": "python"
    }
  },
  "cells": [
    {
      "cell_type": "markdown",
      "metadata": {
        "id": "view-in-github",
        "colab_type": "text"
      },
      "source": [
        "<a href=\"https://colab.research.google.com/github/PitonWuk/WAG/blob/main/module2/%D0%94%D0%97_2.ipynb\" target=\"_parent\"><img src=\"https://colab.research.google.com/assets/colab-badge.svg\" alt=\"Open In Colab\"/></a>"
      ]
    },
    {
      "cell_type": "markdown",
      "source": [
        "Імпортуйте модуль numpy"
      ],
      "metadata": {
        "id": "tk2sNnUDkXK9"
      }
    },
    {
      "cell_type": "code",
      "source": [
        "import numpy as np"
      ],
      "metadata": {
        "id": "1QbCsQ62kUmZ"
      },
      "execution_count": 2,
      "outputs": []
    },
    {
      "cell_type": "markdown",
      "source": [
        "#Завдання 1\n",
        "\n",
        "Створіть масив з парними числами між 30 і 70"
      ],
      "metadata": {
        "id": "ZVC4Yb3JZFO1"
      }
    },
    {
      "cell_type": "code",
      "source": [
        "array = np.arange(30, 71, 2)\n",
        "print(array)"
      ],
      "metadata": {
        "id": "aunm4Jm_hUkL",
        "colab": {
          "base_uri": "https://localhost:8080/"
        },
        "outputId": "7d1091f2-3616-4fe9-93b1-105c4f8eeb37"
      },
      "execution_count": 3,
      "outputs": [
        {
          "output_type": "stream",
          "name": "stdout",
          "text": [
            "[30 32 34 36 38 40 42 44 46 48 50 52 54 56 58 60 62 64 66 68 70]\n"
          ]
        }
      ]
    },
    {
      "cell_type": "markdown",
      "source": [
        "#Завдання 2\n",
        "Створіть масив з 10 числами між 0(включно) та 1(не включно) див документацію"
      ],
      "metadata": {
        "id": "UDSLr3f0b31r"
      }
    },
    {
      "cell_type": "code",
      "source": [
        "array = np.linspace(0, 1, 10, endpoint=False)\n",
        "print(array)\n"
      ],
      "metadata": {
        "id": "w7iNkGd_hUM-",
        "colab": {
          "base_uri": "https://localhost:8080/"
        },
        "outputId": "1ea3596d-80ce-463b-ecea-fae2e452273f"
      },
      "execution_count": 4,
      "outputs": [
        {
          "output_type": "stream",
          "name": "stdout",
          "text": [
            "[0.  0.1 0.2 0.3 0.4 0.5 0.6 0.7 0.8 0.9]\n"
          ]
        }
      ]
    },
    {
      "cell_type": "markdown",
      "source": [
        "#Завдання 4\n",
        "Напишіть функцію яка приймає матрицю розміру nxn та повертає матрицю розміру (n+2) x (n+2), на краях якої розміщенні 0."
      ],
      "metadata": {
        "id": "rtWKmLWhYi_j"
      }
    },
    {
      "cell_type": "code",
      "source": [
        "x = np.arange(16).reshape(4, 4)\n",
        "print(x)"
      ],
      "metadata": {
        "id": "mU7vjsnqhVfk",
        "colab": {
          "base_uri": "https://localhost:8080/"
        },
        "outputId": "9a52fdf8-0078-4406-e34c-482591e6534b"
      },
      "execution_count": 3,
      "outputs": [
        {
          "output_type": "stream",
          "name": "stdout",
          "text": [
            "[[ 0  1  2  3]\n",
            " [ 4  5  6  7]\n",
            " [ 8  9 10 11]\n",
            " [12 13 14 15]]\n"
          ]
        }
      ]
    },
    {
      "cell_type": "markdown",
      "source": [
        "#Завдання 5\n",
        "У попередьньому масиві змініть тип даних. Виведіть тип даних до та після зміни"
      ],
      "metadata": {
        "id": "ok_hMAEJa9oh"
      }
    },
    {
      "cell_type": "code",
      "source": [
        "astype"
      ],
      "metadata": {
        "id": "vYlj3r3ShV98"
      },
      "execution_count": null,
      "outputs": []
    },
    {
      "cell_type": "markdown",
      "source": [
        "#Завдання 6\n",
        "У даному масиві замініть елементи, які дорівнюють\\більші\\менші за var на -1"
      ],
      "metadata": {
        "id": "aR7TWyqgZUDg"
      }
    },
    {
      "cell_type": "code",
      "source": [
        "x = np.array([1, 5, 3, 8, 6, 5, 7, 4])\n",
        "var = 5"
      ],
      "metadata": {
        "id": "oPzL69Fbg2Wq"
      },
      "execution_count": null,
      "outputs": []
    },
    {
      "cell_type": "markdown",
      "source": [
        "#Завдання 7\n",
        "Замініть пропущені значення матриці(np.nan) на -1\n",
        "\n",
        "Дивись np.isnan"
      ],
      "metadata": {
        "id": "Ks3Rtc7kajMJ"
      }
    },
    {
      "cell_type": "code",
      "source": [
        "X = np.array([[1, 2, np.nan, 4],\n",
        "              [5, np.nan, np.nan, 4],\n",
        "              [np.nan, 10, 11, np.nan]])\n",
        "\n",
        "X[np.isnan(X)] = -1\n",
        "print(X)"
      ],
      "metadata": {
        "id": "Rr8CdINEg3Rj",
        "colab": {
          "base_uri": "https://localhost:8080/"
        },
        "outputId": "8268ff1a-a2b4-4275-998b-24fcc8b513c7"
      },
      "execution_count": 6,
      "outputs": [
        {
          "output_type": "stream",
          "name": "stdout",
          "text": [
            "[[ 1.  2. -1.  4.]\n",
            " [ 5. -1. -1.  4.]\n",
            " [-1. 10. 11. -1.]]\n"
          ]
        }
      ]
    },
    {
      "cell_type": "markdown",
      "source": [
        "#Завдання 8\n",
        "Створіть матрицю розміру 4х6 з випадковими числами. Змініть її розмір на 3х8"
      ],
      "metadata": {
        "id": "teYwjikMa0gs"
      }
    },
    {
      "cell_type": "code",
      "source": [
        "matrix = np.random.randint(1, 10, size=(4, 6))\n",
        "print(matrix)\n",
        "print()\n",
        "matrix2 = np.resize(matrix, (3, 8))\n",
        "print(matrix2)"
      ],
      "metadata": {
        "id": "JhNvUJwxhXED",
        "colab": {
          "base_uri": "https://localhost:8080/"
        },
        "outputId": "b9ab330b-06d1-4912-ac1b-7e0ec82fe676"
      },
      "execution_count": 8,
      "outputs": [
        {
          "output_type": "stream",
          "name": "stdout",
          "text": [
            "[[1 1 8 9 4 1]\n",
            " [8 1 1 8 2 5]\n",
            " [1 1 3 7 7 5]\n",
            " [2 6 2 7 2 1]]\n",
            "\n",
            "[[1 1 8 9 4 1 8 1]\n",
            " [1 8 2 5 1 1 3 7]\n",
            " [7 5 2 6 2 7 2 1]]\n"
          ]
        }
      ]
    },
    {
      "cell_type": "markdown",
      "source": [
        "#Завдання 9\n",
        "Створіть матрицю з одиниць розміром 3х4. Знайдіть середнє арифметичне(mean) кожного стовпчика"
      ],
      "metadata": {
        "id": "jVE8280acszi"
      }
    },
    {
      "cell_type": "code",
      "source": [
        "matrix = np.ones((3, 4))\n",
        "print(matrix)\n",
        "print()\n",
        "\n",
        "means = np.mean(matrix, axis=0)\n",
        "print(means)"
      ],
      "metadata": {
        "id": "5QI6HPNHhXd4",
        "colab": {
          "base_uri": "https://localhost:8080/"
        },
        "outputId": "d31eb9d1-1a1a-4b80-d2e0-2e5dd237cdbf"
      },
      "execution_count": 11,
      "outputs": [
        {
          "output_type": "stream",
          "name": "stdout",
          "text": [
            "[[1. 1. 1. 1.]\n",
            " [1. 1. 1. 1.]\n",
            " [1. 1. 1. 1.]]\n",
            "\n",
            "[1. 1. 1. 1.]\n"
          ]
        }
      ]
    },
    {
      "cell_type": "markdown",
      "source": [
        "#Завдання 10\n",
        "Створіть випадкову матрицю розміром 5х6. Округліть значення до одного знаку після коми(np.round). Розмістіть стовпчики так, щоб значення в першому рядку були відсортовані за зростанням"
      ],
      "metadata": {
        "id": "nK6LwLjfc9aC"
      }
    },
    {
      "cell_type": "code",
      "source": [
        "random_matrix = np.random.rand(5, 6)\n",
        "rounded_matrix = np.round(random_matrix, decimals=1)\n",
        "print(rounded_matrix)\n",
        "\n",
        "x[]\n",
        "argsort"
      ],
      "metadata": {
        "id": "pERBNp12hX58",
        "colab": {
          "base_uri": "https://localhost:8080/"
        },
        "outputId": "5cfc0412-d742-4d99-d6a2-1a0c52ab3e95"
      },
      "execution_count": 12,
      "outputs": [
        {
          "output_type": "stream",
          "name": "stdout",
          "text": [
            "[[0.6 0.4 0.1 0.5 0.9 0.4]\n",
            " [0.2 0.9 0.8 0.4 0.6 0.8]\n",
            " [0.3 0.3 1.  0.9 0.1 0.1]\n",
            " [0.7 0.4 0.4 0.2 0.8 0.3]\n",
            " [0.6 0.3 0.6 0.3 0.8 1. ]]\n"
          ]
        }
      ]
    },
    {
      "cell_type": "markdown",
      "source": [
        "#Завдання 11\n",
        "В даній матриці знайдіть всі елементи зі значенням між 3 і 6\n",
        "\n",
        "Дивись документацію np.logical_and"
      ],
      "metadata": {
        "id": "faCqq4bxiXsg"
      }
    },
    {
      "cell_type": "code",
      "source": [
        "X = np.array([[1, 2, 3, 4, 5],\n",
        "              [6, 7, 8, 9, 10],\n",
        "              [9, 8, 7, 6, 5],\n",
        "              [4, 3, 2, 1, 0]])\n",
        "result = np.logical_and(X >= 3, X <= 6)\n",
        "print(X[result])"
      ],
      "metadata": {
        "id": "01ZY_c-tilOF",
        "colab": {
          "base_uri": "https://localhost:8080/"
        },
        "outputId": "21a0c378-2fbd-4eed-af5c-fadacb64fd9f"
      },
      "execution_count": 15,
      "outputs": [
        {
          "output_type": "stream",
          "name": "stdout",
          "text": [
            "[3 4 5 6 6 5 4 3]\n"
          ]
        }
      ]
    },
    {
      "cell_type": "markdown",
      "source": [
        "#Завдання 12\n",
        "Створіть випадкову матрицю розміру 5х6. Нормалізуйте стовпчики: від кожного елемента ставпчика відніміть мінімальне значення та поділіть результат на різницю між максимальним та мінімальним елементом.\n",
        "\n",
        "Після цього всі значення мають бути в межах [0, 1]"
      ],
      "metadata": {
        "id": "cCZSaa3DMKxb"
      }
    },
    {
      "cell_type": "code",
      "source": [
        "random_matrix = np.random.rand(5, 6)\n",
        "print(random_matrix)\n",
        "print()\n",
        "min_value = np.min(random_matrix, axis=0)\n",
        "max_value = np.max(random_matrix, axis=0)\n",
        "result_matrix = (random_matrix - min_value) / (max_value - min_value)\n",
        "print(result_matrix)"
      ],
      "metadata": {
        "id": "qnOYOAgOMqRi",
        "colab": {
          "base_uri": "https://localhost:8080/"
        },
        "outputId": "935f1516-e5e5-4699-ad27-f816e3fbe3ee"
      },
      "execution_count": 17,
      "outputs": [
        {
          "output_type": "stream",
          "name": "stdout",
          "text": [
            "[[0.60357134 0.83233707 0.41884405 0.13756159 0.85055918 0.98181782]\n",
            " [0.95017381 0.78075536 0.06056121 0.26814523 0.25198809 0.13027457]\n",
            " [0.36202127 0.78270177 0.05788665 0.35213623 0.06785939 0.4449933 ]\n",
            " [0.98188918 0.58108423 0.20431608 0.81320341 0.46936549 0.53578781]\n",
            " [0.29137095 0.97805212 0.18998757 0.26771029 0.02055945 0.04212292]]\n",
            "\n",
            "[[0.45212476 0.63292988 1.         0.         1.         1.        ]\n",
            " [0.95407019 0.50299062 0.00740963 0.19327347 0.27882978 0.0938088 ]\n",
            " [0.10231492 0.50789383 0.         0.31758637 0.05698789 0.42872466]\n",
            " [1.         0.         0.40566957 1.         0.54073035 0.52534592]\n",
            " [0.         1.         0.36597372 0.19262973 0.         0.        ]]\n"
          ]
        }
      ]
    }
  ]
}