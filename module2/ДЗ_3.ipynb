{
  "nbformat": 4,
  "nbformat_minor": 0,
  "metadata": {
    "colab": {
      "provenance": [],
      "toc_visible": true,
      "include_colab_link": true
    },
    "kernelspec": {
      "name": "python3",
      "display_name": "Python 3"
    },
    "language_info": {
      "name": "python"
    }
  },
  "cells": [
    {
      "cell_type": "markdown",
      "metadata": {
        "id": "view-in-github",
        "colab_type": "text"
      },
      "source": [
        "<a href=\"https://colab.research.google.com/github/PitonWuk/WAG/blob/main/module2/%D0%94%D0%97_3.ipynb\" target=\"_parent\"><img src=\"https://colab.research.google.com/assets/colab-badge.svg\" alt=\"Open In Colab\"/></a>"
      ]
    },
    {
      "cell_type": "markdown",
      "source": [
        "Імпортуйте модуль pandas"
      ],
      "metadata": {
        "id": "JcEy7-4Sou1q"
      }
    },
    {
      "cell_type": "code",
      "execution_count": 1,
      "metadata": {
        "id": "bBPN6MQ4omtx"
      },
      "outputs": [],
      "source": [
        "import pandas as pd"
      ]
    },
    {
      "cell_type": "markdown",
      "source": [
        "# Інформація про дані\n",
        "Зібрано дані продажу техніки в різних магазинах.\n",
        "* OrderDate -- дата замовлення\n",
        "* Region    -- регіон де розміщено магазин\n",
        "* Manager   -- ім'я менеджера\n",
        "* SalesMan  -- ім'я продавця\n",
        "* Item      -- тип товару\n",
        "* Units     -- кількість купленого товару\n",
        "* Unit_price -- ціна за штуку\n",
        "* Sale_amt   -- загальна вартість покупки"
      ],
      "metadata": {
        "id": "cR2fUNbco1Fh"
      }
    },
    {
      "cell_type": "code",
      "source": [
        "df = pd.read_csv(\"https://raw.githubusercontent.com/HalyshAnton/IT-Step-Pyton-AI/main/module2/data/sales_data.csv\", index_col=\"Unnamed: 0\")"
      ],
      "metadata": {
        "id": "uvpR4oiIqU7t"
      },
      "execution_count": 2,
      "outputs": []
    },
    {
      "cell_type": "markdown",
      "source": [
        "# Завдання 1\n",
        "\n",
        "Вивести загальну інформацію про таблицю: кількість рядків та стовпців, назви стовпців та їхній тип даних, в яких стовпцях є пропущені значення"
      ],
      "metadata": {
        "id": "SYfF3l1Ao0SC"
      }
    },
    {
      "cell_type": "code",
      "source": [
        "print(df.info())"
      ],
      "metadata": {
        "id": "FF27dmV_ynWM",
        "outputId": "00b17e21-cc49-4b62-b49d-1dcbd3f42e15",
        "colab": {
          "base_uri": "https://localhost:8080/"
        }
      },
      "execution_count": 3,
      "outputs": [
        {
          "output_type": "stream",
          "name": "stdout",
          "text": [
            "<class 'pandas.core.frame.DataFrame'>\n",
            "Int64Index: 45 entries, 0 to 44\n",
            "Data columns (total 8 columns):\n",
            " #   Column      Non-Null Count  Dtype  \n",
            "---  ------      --------------  -----  \n",
            " 0   OrderDate   43 non-null     object \n",
            " 1   Region      43 non-null     object \n",
            " 2   Manager     43 non-null     object \n",
            " 3   SalesMan    43 non-null     object \n",
            " 4   Item        43 non-null     object \n",
            " 5   Units       45 non-null     float64\n",
            " 6   Unit_price  45 non-null     float64\n",
            " 7   Sale_amt    45 non-null     float64\n",
            "dtypes: float64(3), object(5)\n",
            "memory usage: 3.2+ KB\n",
            "None\n"
          ]
        }
      ]
    },
    {
      "cell_type": "markdown",
      "source": [
        "# Завдання 2\n",
        "\n",
        "Перейменуйте стовпчики так, щоб назви містили літери нижнього регістру"
      ],
      "metadata": {
        "id": "GtiSCylwuhgl"
      }
    },
    {
      "cell_type": "code",
      "source": [
        "df.rename(columns=lambda x: x.lower(), inplace=True)\n",
        "print(df)"
      ],
      "metadata": {
        "id": "EWZj1Pltu2la",
        "outputId": "0059f42b-a147-48a8-c502-106f62f65838",
        "colab": {
          "base_uri": "https://localhost:8080/"
        }
      },
      "execution_count": 5,
      "outputs": [
        {
          "output_type": "stream",
          "name": "stdout",
          "text": [
            "     orderdate   region  manager   salesman          item   units  unit_price  \\\n",
            "0   2018-01-06     East   Martha  Alexander    Television   95.00    1198.000   \n",
            "1   2018-01-23  Central  Hermann     Shelli  Home Theater   50.00     500.000   \n",
            "2   2018-02-09  Central  Hermann       Luis    Television   36.00    1198.000   \n",
            "3   2018-02-26  Central  Timothy      David    Cell Phone   27.00     225.000   \n",
            "4   2018-03-15     West  Timothy    Stephen    Television   56.00    1198.000   \n",
            "5   2018-04-01     East   Martha  Alexander  Home Theater   60.00     500.000   \n",
            "6   2018-04-18  Central   Martha     Steven    Television   75.00    1198.000   \n",
            "7   2018-05-05  Central  Hermann       Luis    Television   90.00    1198.000   \n",
            "8   2018-05-22     West  Douglas    Michael    Television   32.00    1198.000   \n",
            "9   2018-06-08     East   Martha  Alexander  Home Theater   60.00     500.000   \n",
            "10  2018-06-25  Central  Hermann      Sigal    Television   90.00    1198.000   \n",
            "11  2018-07-12     East   Martha      Diana  Home Theater   29.00     500.000   \n",
            "12  2018-07-29     East  Douglas      Karen  Home Theater   81.00     500.000   \n",
            "13  2018-08-15     East   Martha  Alexander    Television   35.00    1198.000   \n",
            "14  2018-09-01  Central  Douglas       John          Desk    2.00     125.000   \n",
            "15  2018-09-18     East   Martha  Alexander   Video Games   16.00      58.500   \n",
            "16  2018-10-05  Central  Hermann      Sigal  Home Theater   28.00     500.000   \n",
            "17  2018-10-22     East   Martha  Alexander    Cell Phone   64.00     225.000   \n",
            "18  2018-11-08     East  Douglas      Karen    Cell Phone   15.00     225.000   \n",
            "19  2018-11-25  Central  Hermann     Shelli   Video Games   96.00      58.500   \n",
            "20  2018-12-12  Central  Douglas       John    Television   67.00    1198.000   \n",
            "21  2018-12-29     East  Douglas      Karen   Video Games   74.00      58.500   \n",
            "22  2019-01-15  Central  Timothy      David  Home Theater   46.00     500.000   \n",
            "23  2019-02-01  Central  Douglas       John  Home Theater   87.00     500.000   \n",
            "24  2019-02-18     East   Martha  Alexander  Home Theater    4.00     500.000   \n",
            "25  2019-03-07     West  Timothy    Stephen  Home Theater    7.00     500.000   \n",
            "26  2019-03-24  Central  Hermann       Luis   Video Games   50.00      58.500   \n",
            "27  2019-04-10  Central   Martha     Steven    Television   66.00    1198.000   \n",
            "28  2019-04-27     East   Martha      Diana    Cell Phone   96.00     225.000   \n",
            "29  2019-05-14  Central  Timothy      David    Television   53.00    1198.000   \n",
            "30  2019-05-31  Central  Timothy      David  Home Theater   80.00     500.000   \n",
            "31  2019-06-17  Central  Hermann     Shelli          Desk    5.00     125.000   \n",
            "32  2019-07-04     East   Martha  Alexander   Video Games   62.00      58.500   \n",
            "33  2019-07-21  Central  Hermann      Sigal   Video Games   55.00      58.500   \n",
            "34  2019-08-07  Central  Hermann     Shelli   Video Games   42.00      58.500   \n",
            "35  2019-08-24     West  Timothy    Stephen          Desk    3.00     125.000   \n",
            "36  2019-09-10  Central  Timothy      David    Television    7.00    1198.000   \n",
            "37  2019-09-27     West  Timothy    Stephen    Cell Phone   76.00     225.000   \n",
            "38  2019-10-14     West  Douglas    Michael  Home Theater   57.00     500.000   \n",
            "39  2019-10-31  Central   Martha     Steven    Television   14.00    1198.000   \n",
            "40  2019-11-17  Central  Hermann       Luis  Home Theater   11.00     500.000   \n",
            "41  2019-12-04  Central  Hermann       Luis  Home Theater   94.00     500.000   \n",
            "42  2019-12-21  Central   Martha     Steven  Home Theater   28.00     500.000   \n",
            "43         NaN      NaN      NaN        NaN           NaN  278.00    1125.000   \n",
            "44         NaN      NaN      NaN        NaN           NaN   34.75     140.625   \n",
            "\n",
            "     sale_amt  \n",
            "0   113810.00  \n",
            "1    25000.00  \n",
            "2    43128.00  \n",
            "3     6075.00  \n",
            "4    67088.00  \n",
            "5    30000.00  \n",
            "6    89850.00  \n",
            "7   107820.00  \n",
            "8    38336.00  \n",
            "9    30000.00  \n",
            "10  107820.00  \n",
            "11   14500.00  \n",
            "12   40500.00  \n",
            "13   41930.00  \n",
            "14     250.00  \n",
            "15     936.00  \n",
            "16   14000.00  \n",
            "17   14400.00  \n",
            "18    3375.00  \n",
            "19    5616.00  \n",
            "20   80266.00  \n",
            "21    4329.00  \n",
            "22   23000.00  \n",
            "23   43500.00  \n",
            "24    2000.00  \n",
            "25    3500.00  \n",
            "26    2925.00  \n",
            "27   79068.00  \n",
            "28   21600.00  \n",
            "29   63494.00  \n",
            "30   40000.00  \n",
            "31     625.00  \n",
            "32    3627.00  \n",
            "33    3217.50  \n",
            "34    2457.00  \n",
            "35     375.00  \n",
            "36    8386.00  \n",
            "37   17100.00  \n",
            "38   28500.00  \n",
            "39   16772.00  \n",
            "40    5500.00  \n",
            "41   47000.00  \n",
            "42   14000.00  \n",
            "43   62550.00  \n",
            "44    7818.75  \n"
          ]
        }
      ]
    },
    {
      "cell_type": "markdown",
      "source": [
        "# Завдання 3\n",
        "Виведіть дані про купівлі телевізорів та телефонів"
      ],
      "metadata": {
        "id": "4opZJS6YtxzK"
      }
    },
    {
      "cell_type": "code",
      "source": [
        "df_cleaned = df.dropna(subset=[\"item\"])\n",
        "\n",
        "tv_data = df_cleaned[df_cleaned[\"item\"].str.contains(\"Television\", case=False)]\n",
        "print(\"\\nTelevision:\")\n",
        "print(tv_data)\n",
        "\n",
        "phone_data = df_cleaned[df_cleaned[\"item\"].str.contains(\"Cell Phone\", case=False)]\n",
        "print(\"\\nCell Phone:\")\n",
        "print(phone_data)"
      ],
      "metadata": {
        "id": "cUenrZqdugpM",
        "outputId": "dcb40f2e-4cd2-4841-e479-f531d02247c4",
        "colab": {
          "base_uri": "https://localhost:8080/"
        }
      },
      "execution_count": 14,
      "outputs": [
        {
          "output_type": "stream",
          "name": "stdout",
          "text": [
            "\n",
            "Television:\n",
            "     orderdate   region  manager   salesman        item  units  unit_price  \\\n",
            "0   2018-01-06     East   Martha  Alexander  Television   95.0      1198.0   \n",
            "2   2018-02-09  Central  Hermann       Luis  Television   36.0      1198.0   \n",
            "4   2018-03-15     West  Timothy    Stephen  Television   56.0      1198.0   \n",
            "6   2018-04-18  Central   Martha     Steven  Television   75.0      1198.0   \n",
            "7   2018-05-05  Central  Hermann       Luis  Television   90.0      1198.0   \n",
            "8   2018-05-22     West  Douglas    Michael  Television   32.0      1198.0   \n",
            "10  2018-06-25  Central  Hermann      Sigal  Television   90.0      1198.0   \n",
            "13  2018-08-15     East   Martha  Alexander  Television   35.0      1198.0   \n",
            "20  2018-12-12  Central  Douglas       John  Television   67.0      1198.0   \n",
            "27  2019-04-10  Central   Martha     Steven  Television   66.0      1198.0   \n",
            "29  2019-05-14  Central  Timothy      David  Television   53.0      1198.0   \n",
            "36  2019-09-10  Central  Timothy      David  Television    7.0      1198.0   \n",
            "39  2019-10-31  Central   Martha     Steven  Television   14.0      1198.0   \n",
            "\n",
            "    sale_amt  \n",
            "0   113810.0  \n",
            "2    43128.0  \n",
            "4    67088.0  \n",
            "6    89850.0  \n",
            "7   107820.0  \n",
            "8    38336.0  \n",
            "10  107820.0  \n",
            "13   41930.0  \n",
            "20   80266.0  \n",
            "27   79068.0  \n",
            "29   63494.0  \n",
            "36    8386.0  \n",
            "39   16772.0  \n",
            "\n",
            "Cell Phone:\n",
            "     orderdate   region  manager   salesman        item  units  unit_price  \\\n",
            "3   2018-02-26  Central  Timothy      David  Cell Phone   27.0       225.0   \n",
            "17  2018-10-22     East   Martha  Alexander  Cell Phone   64.0       225.0   \n",
            "18  2018-11-08     East  Douglas      Karen  Cell Phone   15.0       225.0   \n",
            "28  2019-04-27     East   Martha      Diana  Cell Phone   96.0       225.0   \n",
            "37  2019-09-27     West  Timothy    Stephen  Cell Phone   76.0       225.0   \n",
            "\n",
            "    sale_amt  \n",
            "3     6075.0  \n",
            "17   14400.0  \n",
            "18    3375.0  \n",
            "28   21600.0  \n",
            "37   17100.0  \n"
          ]
        }
      ]
    },
    {
      "cell_type": "markdown",
      "source": [
        "# Завдання 4\n",
        "Яка загальна виручка у продавця Luis?"
      ],
      "metadata": {
        "id": "Xj6KjrIvy88t"
      }
    },
    {
      "cell_type": "code",
      "source": [
        "luis_sales = df[df[\"salesman\"] == \"Luis\"]\n",
        "total_sales_luis = luis_sales[\"sale_amt\"].sum()\n",
        "print(total_sales_luis)"
      ],
      "metadata": {
        "id": "v61fgvNGOimR",
        "outputId": "2c25c668-6125-4ec2-c871-c167baeec421",
        "colab": {
          "base_uri": "https://localhost:8080/"
        }
      },
      "execution_count": 18,
      "outputs": [
        {
          "output_type": "stream",
          "name": "stdout",
          "text": [
            "206373.0\n"
          ]
        }
      ]
    },
    {
      "cell_type": "markdown",
      "source": [
        "# Завдання 5\n",
        "\n",
        "Скільки і якого товару було продано?\n",
        "\n",
        "див groupby(),"
      ],
      "metadata": {
        "id": "EC6FWEv-u1gT"
      }
    },
    {
      "cell_type": "code",
      "source": [
        "sales = df.groupby(\"item\")[\"units\"].sum()\n",
        "print(sales)"
      ],
      "metadata": {
        "id": "4-MlEzEDzLg7",
        "outputId": "a680936b-3063-4760-b773-d3f73a408ff4",
        "colab": {
          "base_uri": "https://localhost:8080/"
        }
      },
      "execution_count": 19,
      "outputs": [
        {
          "output_type": "stream",
          "name": "stdout",
          "text": [
            "item\n",
            "Cell Phone      278.0\n",
            "Desk             10.0\n",
            "Home Theater    722.0\n",
            "Television      716.0\n",
            "Video Games     395.0\n",
            "Name: units, dtype: float64\n"
          ]
        }
      ]
    },
    {
      "cell_type": "markdown",
      "source": [
        "# Завдання 6\n",
        "Перевірте чи правильно розраховано загальну вартість покупки. Виведіть ті рядки де є помилка. Виправте дані в таблиці"
      ],
      "metadata": {
        "id": "E_yqxKNXxF2u"
      }
    },
    {
      "cell_type": "code",
      "source": [
        "expected_sale_amt = df[\"units\"] * df[\"unit_price\"]\n",
        "errors = df[df[\"sale_amt\"] != expected_sale_amt]\n",
        "print(errors)\n",
        "\n"
      ],
      "metadata": {
        "id": "KFDqxG1yx5dS",
        "outputId": "4f727973-9c00-4834-f8c6-9a8213274e62",
        "colab": {
          "base_uri": "https://localhost:8080/"
        }
      },
      "execution_count": 21,
      "outputs": [
        {
          "output_type": "stream",
          "name": "stdout",
          "text": [
            "   orderdate region manager salesman item   units  unit_price  sale_amt\n",
            "43       NaN    NaN     NaN      NaN  NaN  278.00    1125.000  62550.00\n",
            "44       NaN    NaN     NaN      NaN  NaN   34.75     140.625   7818.75\n"
          ]
        }
      ]
    }
  ]
}