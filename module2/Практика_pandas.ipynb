{
  "nbformat": 4,
  "nbformat_minor": 0,
  "metadata": {
    "colab": {
      "provenance": [],
      "toc_visible": true,
      "include_colab_link": true
    },
    "kernelspec": {
      "name": "python3",
      "display_name": "Python 3"
    },
    "language_info": {
      "name": "python"
    }
  },
  "cells": [
    {
      "cell_type": "markdown",
      "metadata": {
        "id": "view-in-github",
        "colab_type": "text"
      },
      "source": [
        "<a href=\"https://colab.research.google.com/github/PitonWuk/WAG/blob/main/module2/%D0%9F%D1%80%D0%B0%D0%BA%D1%82%D0%B8%D0%BA%D0%B0_pandas.ipynb\" target=\"_parent\"><img src=\"https://colab.research.google.com/assets/colab-badge.svg\" alt=\"Open In Colab\"/></a>"
      ]
    },
    {
      "cell_type": "markdown",
      "source": [
        "Імпорт модуля pandas"
      ],
      "metadata": {
        "id": "ikzNvEQx0XKG"
      }
    },
    {
      "cell_type": "code",
      "execution_count": 1,
      "metadata": {
        "id": "fzkEy73a0Rl8"
      },
      "outputs": [],
      "source": [
        "import pandas as pd"
      ]
    },
    {
      "cell_type": "markdown",
      "source": [
        "Дані про пасажирів корабля:\n",
        "* pclass -- клас білета(перший, другий або третій)\n",
        "* sex -- стать\n",
        "* age -- вік\n",
        "* sibsp -- кількість братів\\сестер та чоловіків\\дружин на борту\n",
        "* parch -- кількість дітей та батьків на борту\n",
        "* fare -- вартість поїздки\n",
        "* embarked -- Порт посадки (C = Шербур, Q = Квінстаун, S = Саутгемптон)\n"
      ],
      "metadata": {
        "id": "RoUDr2wi1D7y"
      }
    },
    {
      "cell_type": "code",
      "source": [
        "df = pd.read_csv(\"https://raw.githubusercontent.com/HalyshAnton/IT-Step-Pyton-AI/main/module2/data/ship_passengers.csv\",\n",
        "                 index_col=\"Unnamed: 0\")"
      ],
      "metadata": {
        "id": "sDI-qfUH0dBT"
      },
      "execution_count": 2,
      "outputs": []
    },
    {
      "cell_type": "markdown",
      "source": [
        "# Завдання 1\n",
        "\n",
        "Вивести загальну інформацію про таблицю: кількість рядків та стовпців, назви стовпців та їхній тип даних, в яких стовпцях є пропущені значення"
      ],
      "metadata": {
        "id": "_pD2l5vN43VF"
      }
    },
    {
      "cell_type": "code",
      "source": [
        "print(df.info)\n",
        "print()\n",
        "print(df.columns)\n",
        "print()\n",
        "print(df.dtypes)\n",
        "print()\n",
        "print(df.isnull)"
      ],
      "metadata": {
        "id": "n-BkudKiWhW_",
        "outputId": "13370924-ce57-4ddc-9570-e8def699ae90",
        "colab": {
          "base_uri": "https://localhost:8080/"
        }
      },
      "execution_count": 4,
      "outputs": [
        {
          "output_type": "stream",
          "name": "stdout",
          "text": [
            "<bound method DataFrame.info of      pclass     sex   age  sibsp  parch     fare embarked\n",
            "0         3    male  22.0      1      0   7.2500        S\n",
            "1         1  female  38.0      1      0  71.2833        C\n",
            "2         3  female  26.0      0      0   7.9250        S\n",
            "3         1  female  35.0      1      0  53.1000        S\n",
            "4         3    male  35.0      0      0   8.0500        S\n",
            "..      ...     ...   ...    ...    ...      ...      ...\n",
            "886       2    male  27.0      0      0  13.0000        S\n",
            "887       1  female  19.0      0      0  30.0000        S\n",
            "888       3  female   NaN      1      2  23.4500        S\n",
            "889       1    male  26.0      0      0  30.0000        C\n",
            "890       3    male  32.0      0      0   7.7500        Q\n",
            "\n",
            "[891 rows x 7 columns]>\n",
            "\n",
            "Index(['pclass', 'sex', 'age', 'sibsp', 'parch', 'fare', 'embarked'], dtype='object')\n",
            "\n",
            "pclass        int64\n",
            "sex          object\n",
            "age         float64\n",
            "sibsp         int64\n",
            "parch         int64\n",
            "fare        float64\n",
            "embarked     object\n",
            "dtype: object\n",
            "\n",
            "<bound method DataFrame.isnull of      pclass     sex   age  sibsp  parch     fare embarked\n",
            "0         3    male  22.0      1      0   7.2500        S\n",
            "1         1  female  38.0      1      0  71.2833        C\n",
            "2         3  female  26.0      0      0   7.9250        S\n",
            "3         1  female  35.0      1      0  53.1000        S\n",
            "4         3    male  35.0      0      0   8.0500        S\n",
            "..      ...     ...   ...    ...    ...      ...      ...\n",
            "886       2    male  27.0      0      0  13.0000        S\n",
            "887       1  female  19.0      0      0  30.0000        S\n",
            "888       3  female   NaN      1      2  23.4500        S\n",
            "889       1    male  26.0      0      0  30.0000        C\n",
            "890       3    male  32.0      0      0   7.7500        Q\n",
            "\n",
            "[891 rows x 7 columns]>\n"
          ]
        }
      ]
    },
    {
      "cell_type": "markdown",
      "source": [
        "# Завдання 2\n",
        "Скільки пасажирів сіло у Квінстауні?"
      ],
      "metadata": {
        "id": "YVUQGjfXOLMo"
      }
    },
    {
      "cell_type": "code",
      "source": [
        "passengers_Q = df[df['embarked'] == 'Q']\n",
        "count = passengers_Q.shape[0]\n",
        "print(count)"
      ],
      "metadata": {
        "id": "x4PMpTIlPYR5",
        "outputId": "74bb0718-bbb2-40d6-c8b6-f49ccfa59167",
        "colab": {
          "base_uri": "https://localhost:8080/"
        }
      },
      "execution_count": 5,
      "outputs": [
        {
          "output_type": "stream",
          "name": "stdout",
          "text": [
            "77\n"
          ]
        }
      ]
    },
    {
      "cell_type": "markdown",
      "source": [
        "# Завдання 3\n",
        "Виведіть стать, вік та вартість поїздки для пасажирів з білетом першого класу"
      ],
      "metadata": {
        "id": "GUQxGeGZPaxq"
      }
    },
    {
      "cell_type": "code",
      "source": [
        "first_class = df[df['pclass'] == 1]\n",
        "print(first_class[['sex', 'age', 'fare']])"
      ],
      "metadata": {
        "id": "XKIZYvdsRQSY",
        "outputId": "a99b3182-5f22-441b-f4e2-9597887e5728",
        "colab": {
          "base_uri": "https://localhost:8080/"
        }
      },
      "execution_count": 7,
      "outputs": [
        {
          "output_type": "stream",
          "name": "stdout",
          "text": [
            "        sex   age     fare\n",
            "1    female  38.0  71.2833\n",
            "3    female  35.0  53.1000\n",
            "6      male  54.0  51.8625\n",
            "11   female  58.0  26.5500\n",
            "23     male  28.0  35.5000\n",
            "..      ...   ...      ...\n",
            "871  female  47.0  52.5542\n",
            "872    male  33.0   5.0000\n",
            "879  female  56.0  83.1583\n",
            "887  female  19.0  30.0000\n",
            "889    male  26.0  30.0000\n",
            "\n",
            "[216 rows x 3 columns]\n"
          ]
        }
      ]
    },
    {
      "cell_type": "markdown",
      "source": [
        "# Завдання 4\n",
        "Ввиведіть дані про неповнолітніх чоловіків з Шербура"
      ],
      "metadata": {
        "id": "7S_Qh0hvRaVS"
      }
    },
    {
      "cell_type": "code",
      "source": [
        "young_man = df[(df['sex'] == 'male') & (df['age'] < 18) & (df['embarked'] == 'C')]\n",
        "print(young_man)"
      ],
      "metadata": {
        "id": "mfOJmkOgRURj",
        "outputId": "e080676d-665f-412e-bb39-0f263bc73a0b",
        "colab": {
          "base_uri": "https://localhost:8080/"
        }
      },
      "execution_count": 8,
      "outputs": [
        {
          "output_type": "stream",
          "name": "stdout",
          "text": [
            "     pclass   sex    age  sibsp  parch      fare embarked\n",
            "125       3  male  12.00      1      0   11.2417        C\n",
            "352       3  male  15.00      1      1    7.2292        C\n",
            "532       3  male  17.00      1      1    7.2292        C\n",
            "550       1  male  17.00      0      2  110.8833        C\n",
            "731       3  male  11.00      0      0   18.7875        C\n",
            "803       3  male   0.42      0      1    8.5167        C\n",
            "827       2  male   1.00      0      2   37.0042        C\n"
          ]
        }
      ]
    },
    {
      "cell_type": "markdown",
      "source": [
        "# Завдання 5\n",
        "Створіть новий стовпчик relatives -- загальна кількість родичів на борту для кожного пасажира"
      ],
      "metadata": {
        "id": "ZoF1nlueSptD"
      }
    },
    {
      "cell_type": "code",
      "source": [],
      "metadata": {
        "id": "L1UXr-75WflB"
      },
      "execution_count": null,
      "outputs": []
    },
    {
      "cell_type": "markdown",
      "source": [
        "# Завдання 6\n",
        "Видаліть стовпчик, в якому найбільше пропусків. Якщо пропущені значення ще залишаться, видаліть рядки з пропусками"
      ],
      "metadata": {
        "id": "GggTkcdOV3D0"
      }
    },
    {
      "cell_type": "code",
      "source": [],
      "metadata": {
        "id": "TDeDRKJCSSpV"
      },
      "execution_count": null,
      "outputs": []
    }
  ]
}